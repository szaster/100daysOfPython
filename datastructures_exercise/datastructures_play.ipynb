{
 "cells": [
  {
   "cell_type": "code",
   "execution_count": 1,
   "metadata": {},
   "outputs": [],
   "source": [
    "cars = {\n",
    "    'Ford': ['Falcon', 'Focus', 'Festiva', 'Fairlane'],\n",
    "    'Holden': ['Commodore', 'Captiva', 'Barina', 'Trailblazer'],\n",
    "    'Nissan': ['Maxima', 'Pulsar', '350Z', 'Navara'],\n",
    "    'Honda': ['Civic', 'Accord', 'Odyssey', 'Jazz'],\n",
    "    'Jeep': ['Grand Cherokee', 'Cherokee', 'Trailhawk', 'Trackhawk']\n",
    "}"
   ]
  },
  {
   "cell_type": "code",
   "execution_count": 2,
   "metadata": {},
   "outputs": [
    {
     "data": {
      "text/plain": [
       "{'Ford': ['Falcon', 'Focus', 'Festiva', 'Fairlane'],\n",
       " 'Holden': ['Commodore', 'Captiva', 'Barina', 'Trailblazer'],\n",
       " 'Nissan': ['Maxima', 'Pulsar', '350Z', 'Navara'],\n",
       " 'Honda': ['Civic', 'Accord', 'Odyssey', 'Jazz'],\n",
       " 'Jeep': ['Grand Cherokee', 'Cherokee', 'Trailhawk', 'Trackhawk']}"
      ]
     },
     "execution_count": 2,
     "metadata": {},
     "output_type": "execute_result"
    }
   ],
   "source": [
    "cars"
   ]
  },
  {
   "cell_type": "code",
   "execution_count": 17,
   "metadata": {},
   "outputs": [
    {
     "data": {
      "text/plain": [
       "{'Ford': ['Falcon', 'Focus', 'Festiva', 'Fairlane'],\n",
       " 'Holden': ['Commodore', 'Captiva', 'Barina', 'Trailblazer'],\n",
       " 'Nissan': ['Maxima', 'Pulsar', '350Z', 'Navara'],\n",
       " 'Honda': ['Civic', 'Accord', 'Odyssey', 'Jazz'],\n",
       " 'Jeep': ['Grand Cherokee', 'Cherokee', 'Trailhawk', 'Trackhawk']}"
      ]
     },
     "execution_count": 17,
     "metadata": {},
     "output_type": "execute_result"
    }
   ],
   "source": [
    "cars"
   ]
  },
  {
   "cell_type": "code",
   "execution_count": 13,
   "metadata": {},
   "outputs": [
    {
     "name": "stdout",
     "output_type": "stream",
     "text": [
      "('Ford', ['Falcon', 'Focus', 'Festiva', 'Fairlane'])\n",
      "('Holden', ['Commodore', 'Captiva', 'Barina', 'Trailblazer'])\n",
      "('Nissan', ['Maxima', 'Pulsar', '350Z', 'Navara'])\n",
      "('Honda', ['Civic', 'Accord', 'Odyssey', 'Jazz'])\n",
      "('Jeep', ['Grand Cherokee', 'Cherokee', 'Trailhawk', 'Trackhawk'])\n"
     ]
    }
   ],
   "source": [
    "for car in cars.items():\n",
    "    print(car)"
   ]
  },
  {
   "cell_type": "code",
   "execution_count": null,
   "metadata": {},
   "outputs": [],
   "source": []
  }
 ],
 "metadata": {
  "kernelspec": {
   "display_name": "Python 3",
   "language": "python",
   "name": "python3"
  },
  "language_info": {
   "codemirror_mode": {
    "name": "ipython",
    "version": 3
   },
   "file_extension": ".py",
   "mimetype": "text/x-python",
   "name": "python",
   "nbconvert_exporter": "python",
   "pygments_lexer": "ipython3",
   "version": "3.7.5"
  }
 },
 "nbformat": 4,
 "nbformat_minor": 2
}

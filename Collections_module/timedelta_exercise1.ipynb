{
 "cells": [
  {
   "cell_type": "code",
   "execution_count": 10,
   "metadata": {},
   "outputs": [
    {
     "name": "stdout",
     "output_type": "stream",
     "text": [
      "0:03:31\n"
     ]
    }
   ],
   "source": [
    "from datetime import datetime\n",
    "import os\n",
    "import urllib.request\n",
    "\n",
    "SHUTDOWN_EVENT = 'Shutdown initiated'\n",
    "\n",
    "# prep: read in the logfile\n",
    "logfile = os.path.join('/tmp', 'log')\n",
    "urllib.request.urlretrieve('http://bit.ly/2AKSIbf', logfile)\n",
    "\n",
    "def convert_to_datetime(line):\n",
    "    \"\"\"TODO 1:\n",
    "       Extract timestamp from logline and convert it to a datetime object.\n",
    "       For example calling the function with:\n",
    "       INFO 2014-07-03T23:27:51 supybot Shutdown complete.\n",
    "       returns:\n",
    "       datetime(2014, 7, 3, 23, 27, 51)\n",
    "    \"\"\"\n",
    "    timestamp = get_timestamp(line)\n",
    "    return parse_timestamp(timestamp)\n",
    "\n",
    "\n",
    "def time_between_shutdowns(loglines):\n",
    "    \"\"\"TODO 2:\n",
    "       Extract shutdown events (\"Shutdown initiated\") from loglines and\n",
    "       calculate the timedelta between the first and last one.\n",
    "       Return this datetime.timedelta object.\n",
    "    \"\"\"\n",
    "    shutdown_lines = extract_shutdown_lines(loglines)\n",
    "    first_shutdown = convert_to_datetime(shutdown_lines[0])\n",
    "    last_shutdown = convert_to_datetime(shutdown_lines[-1])\n",
    "    return last_shutdown - first_shutdown\n",
    "\n",
    "with open(logfile) as f:\n",
    "    loglines = f.readlines()\n",
    "    print(time_between_shutdowns(loglines))\n",
    "\n"
   ]
  },
  {
   "cell_type": "markdown",
   "metadata": {},
   "source": [
    "`ERROR 2014-07-03T23:24:31 supybot Invalid user dictionary file, resetting to empty.`"
   ]
  },
  {
   "cell_type": "code",
   "execution_count": 11,
   "metadata": {},
   "outputs": [
    {
     "name": "stdout",
     "output_type": "stream",
     "text": [
      "2014-07-03T23:24:31\n"
     ]
    }
   ],
   "source": [
    "test_line = \"ERROR 2014-07-03T23:24:31 supybot Invalid user dictionary file, resetting to empty.\"\n",
    "\n",
    "def get_timestamp(line):\n",
    "    \"\"\"\n",
    "    Takes full log line and returns just the timestamp column (as string)\n",
    "    \"\"\"\n",
    "    return line.split(\" \")[1]\n",
    "\n",
    "print(get_timestamp(test_line))"
   ]
  },
  {
   "cell_type": "code",
   "execution_count": 5,
   "metadata": {},
   "outputs": [
    {
     "name": "stdout",
     "output_type": "stream",
     "text": [
      "['a', 'b', 'c']\n"
     ]
    }
   ],
   "source": [
    "print(\"a b c\".split(\" \"))"
   ]
  },
  {
   "cell_type": "code",
   "execution_count": 6,
   "metadata": {},
   "outputs": [
    {
     "data": {
      "text/plain": [
       "datetime.datetime(2014, 7, 3, 23, 24, 31)"
      ]
     },
     "execution_count": 6,
     "metadata": {},
     "output_type": "execute_result"
    }
   ],
   "source": [
    "test_input = \"2014-07-03T23:24:31\"\n",
    "\n",
    "def parse_timestamp(timestamp_string):\n",
    "    \"\"\"\n",
    "    Takes timestamp as string and returns corresponding instance of \n",
    "    datetime.\n",
    "    \"\"\"\n",
    "    return datetime.strptime(timestamp_string, \"%Y-%m-%dT%H:%M:%S\")\n",
    "\n",
    "parse_timestamp(test_input)"
   ]
  },
  {
   "cell_type": "code",
   "execution_count": 7,
   "metadata": {},
   "outputs": [
    {
     "name": "stdout",
     "output_type": "stream",
     "text": [
      "True\n",
      "False\n"
     ]
    }
   ],
   "source": [
    "test_ipt_1 = \";lksadjf;lkajsdf Shutdown initiated s;ldkjf;alkjds\"\n",
    "test_ipt_2 = \";lksdja;flkjasd;flkjsd\"\n",
    "\n",
    "def is_shutdown_initiated_line(line):\n",
    "    \"\"\"\n",
    "    Return true if line contains shutdown initiated event. Otherwise false.\n",
    "    \"\"\"\n",
    "    return \"Shutdown initiated\" in line\n",
    "\n",
    "print(is_shutdown_initiated_line(test_ipt_1))\n",
    "print(is_shutdown_initiated_line(test_ipt_2))"
   ]
  },
  {
   "cell_type": "code",
   "execution_count": 9,
   "metadata": {},
   "outputs": [
    {
     "name": "stdout",
     "output_type": "stream",
     "text": [
      "['INFO 2014-07-03T23:27:51 supybot Shutdown initiated.', 'INFO 2014-07-03T23:31:22 supybot Shutdown initiated.']\n"
     ]
    }
   ],
   "source": [
    "test_input = [\n",
    "\"WARNING 2014-07-03T23:24:31 supybot Couldn't open ignore database: [Errno 2] No such file or directory: 'conf/ignores.conf'\",\n",
    "\"INFO 2014-07-03T23:27:51 supybot Shutdown initiated.\",\n",
    "\"INFO 2014-07-03T23:27:51 supybot Killing Driver objects.\",\n",
    "\"INFO 2014-07-03T23:31:22 supybot No more Irc objects, exiting.\",\n",
    "\"INFO 2014-07-03T23:31:22 supybot Shutdown initiated.\",\n",
    "\"INFO 2014-07-03T23:31:22 supybot Killing Driver objects.\"\n",
    "]\n",
    "\n",
    "def extract_shutdown_lines(lines):\n",
    "    \"\"\"\n",
    "    Filters input and returns only the lines that contain shutdown initiated events.\n",
    "    \"\"\"\n",
    "    return list(filter(is_shutdown_initiated_line, test_input))\n",
    "\n",
    "print(extract_shutdown_lines(test_input))"
   ]
  },
  {
   "cell_type": "code",
   "execution_count": null,
   "metadata": {},
   "outputs": [],
   "source": []
  }
 ],
 "metadata": {
  "kernelspec": {
   "display_name": "Python 3",
   "language": "python",
   "name": "python3"
  },
  "language_info": {
   "codemirror_mode": {
    "name": "ipython",
    "version": 3
   },
   "file_extension": ".py",
   "mimetype": "text/x-python",
   "name": "python",
   "nbconvert_exporter": "python",
   "pygments_lexer": "ipython3",
   "version": "3.7.5"
  }
 },
 "nbformat": 4,
 "nbformat_minor": 2
}

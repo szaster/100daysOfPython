{
 "cells": [
  {
   "cell_type": "markdown",
   "metadata": {},
   "source": [
    "Practice using movie data.\n",
    "We will use a nice movie data set. Let's import it here to see some of our newly learned collections data type in action"
   ]
  },
  {
   "cell_type": "markdown",
   "metadata": {},
   "source": [
    "Making defaultdict of movies per directory (keys = directors, values = list of movies)"
   ]
  },
  {
   "cell_type": "code",
   "execution_count": 21,
   "metadata": {},
   "outputs": [
    {
     "data": {
      "text/plain": [
       "('movies.csv', <http.client.HTTPMessage at 0x1080d6d68>)"
      ]
     },
     "execution_count": 21,
     "metadata": {},
     "output_type": "execute_result"
    }
   ],
   "source": [
    "from collections import defaultdict, namedtuple\n",
    "import csv\n",
    "from urllib.request import urlretrieve\n",
    "movie_data = \"https://raw.githubusercontent.com/pybites/challenges/master/13/movie_metadata.csv\"\n",
    "movies_csv = \"movies.csv\" # where is this file\n",
    "urlretrieve(movie_data, movies_csv)"
   ]
  },
  {
   "cell_type": "markdown",
   "metadata": {},
   "source": [
    "Define namedtuple:"
   ]
  },
  {
   "cell_type": "code",
   "execution_count": 22,
   "metadata": {},
   "outputs": [],
   "source": [
    "Movie = namedtuple('Movie', 'title year score')"
   ]
  },
  {
   "cell_type": "markdown",
   "metadata": {},
   "source": [
    "CVS parsing in the function:"
   ]
  },
  {
   "cell_type": "code",
   "execution_count": 33,
   "metadata": {},
   "outputs": [],
   "source": [
    "def get_movies_by_director(data=movies_csv): \n",
    "    \"\"\"Extract all movies from csv and stores them in a dictionary\n",
    "      where keys = directors, values = list of movies (named tuples))\"\"\"\n",
    "    directors = defaultdict(list) # creating defaultdict\n",
    "    #f = open(data) # f is a file \"handle\". It allows to read and write file\n",
    "    with open(data) as f:\n",
    "        for line in csv.DictReader(f):\n",
    "            try:\n",
    "                director = line['director_name']\n",
    "                movie = line ['movie_title'].replace('\\xa0','')\n",
    "                year = int(line['title_year'])\n",
    "                score = float(line['imdb_score'])\n",
    "            except ValueError:\n",
    "                continue\n",
    "                \n",
    "            m = Movie(title=movie, year=year, score=score)\n",
    "            directors[director].append(m)\n",
    "    return directors"
   ]
  },
  {
   "cell_type": "code",
   "execution_count": 31,
   "metadata": {},
   "outputs": [],
   "source": [
    "directors = get_movies_by_director()"
   ]
  },
  {
   "cell_type": "code",
   "execution_count": 32,
   "metadata": {},
   "outputs": [
    {
     "data": {
      "text/plain": [
       "[Movie(title='The Dark Knight Rises', year=2012, score=8.5),\n",
       " Movie(title='The Dark Knight', year=2008, score=9.0),\n",
       " Movie(title='Interstellar', year=2014, score=8.6),\n",
       " Movie(title='Inception', year=2010, score=8.8),\n",
       " Movie(title='Batman Begins', year=2005, score=8.3),\n",
       " Movie(title='Insomnia', year=2002, score=7.2),\n",
       " Movie(title='The Prestige', year=2006, score=8.5),\n",
       " Movie(title='Memento', year=2000, score=8.5)]"
      ]
     },
     "execution_count": 32,
     "metadata": {},
     "output_type": "execute_result"
    }
   ],
   "source": [
    "directors['Christopher Nolan']"
   ]
  },
  {
   "cell_type": "code",
   "execution_count": null,
   "metadata": {},
   "outputs": [],
   "source": [
    " "
   ]
  }
 ],
 "metadata": {
  "kernelspec": {
   "display_name": "Python 3",
   "language": "python",
   "name": "python3"
  },
  "language_info": {
   "codemirror_mode": {
    "name": "ipython",
    "version": 3
   },
   "file_extension": ".py",
   "mimetype": "text/x-python",
   "name": "python",
   "nbconvert_exporter": "python",
   "pygments_lexer": "ipython3",
   "version": "3.7.3"
  }
 },
 "nbformat": 4,
 "nbformat_minor": 2
}

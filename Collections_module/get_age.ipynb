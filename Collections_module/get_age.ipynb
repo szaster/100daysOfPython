{
 "cells": [
  {
   "cell_type": "code",
   "execution_count": 28,
   "metadata": {},
   "outputs": [
    {
     "name": "stdout",
     "output_type": "stream",
     "text": [
      "Input a name\n",
      "ana\n"
     ]
    }
   ],
   "source": [
    "NOT_FOUND = \"Not found\"\n",
    "\n",
    "group1 = {'tim': 30, 'bob': 17, 'ana': 24}\n",
    "group2 = {'ana': 26, 'thomas': 64, 'helen': 26}\n",
    "group3 = {'brenda': 17, 'otto': 44, 'thomas': 46}\n",
    "\n",
    "groups = [group3, group2, group1]\n",
    "\n",
    "\n",
    "\n",
    "def get_person_age(name):\n",
    "    \"\"\"Look up name (case insensitive search) and return age.\n",
    "       If name in > 1 dict, return the match of the group with\n",
    "       greatest N (so group3 > group2 > group1)\"\"\"\n",
    "    # name_age = input_name(name)\n",
    "    # return (name_age)\n",
    "print(\"Input a name\")\n",
    "name = input()\n"
   ]
  },
  {
   "cell_type": "code",
   "execution_count": null,
   "metadata": {},
   "outputs": [],
   "source": [
    "def input_name(name):\n",
    "    \n",
    "    "
   ]
  },
  {
   "cell_type": "code",
   "execution_count": 25,
   "metadata": {},
   "outputs": [
    {
     "name": "stdout",
     "output_type": "stream",
     "text": [
      "[{'brenda': 17, 'otto': 44, 'thomas': 46}, {'ana': 26, 'thomas': 64, 'helen': 26}, {'tim': 30, 'bob': 17, 'ana': 24}]\n"
     ]
    }
   ],
   "source": [
    "group1 = {'tim': 30, 'bob': 17, 'ana': 24}\n",
    "group2 = {'ana': 26, 'thomas': 64, 'helen': 26}\n",
    "group3 = {'brenda': 17, 'otto': 44, 'thomas': 46}\n",
    "\n",
    "groups = [group3, group2, group1]\n",
    "print(groups)"
   ]
  },
  {
   "cell_type": "code",
   "execution_count": null,
   "metadata": {},
   "outputs": [],
   "source": []
  }
 ],
 "metadata": {
  "kernelspec": {
   "display_name": "Python 3",
   "language": "python",
   "name": "python3"
  },
  "language_info": {
   "codemirror_mode": {
    "name": "ipython",
    "version": 3
   },
   "file_extension": ".py",
   "mimetype": "text/x-python",
   "name": "python",
   "nbconvert_exporter": "python",
   "pygments_lexer": "ipython3",
   "version": "3.7.5"
  }
 },
 "nbformat": 4,
 "nbformat_minor": 2
}
